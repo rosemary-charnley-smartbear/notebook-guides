{
 "cells": [
  {
   "cell_type": "markdown",
   "id": "c6a8a4c7-1f00-475d-a1b0-b021903d2a73",
   "metadata": {},
   "source": [
    "# Comparison: Pactflow On-Premise vs Pactflow SaaS (API Hub for Contract Testing)\n",
    "\n",
    "## Overview\n",
    "Pactflow (now called **API Hub for Contract Testing**) is a commercial platform built on the open-source Pact Broker, offering enterprise features, advanced security, and streamlined integrations.  \n",
    "It comes in two main deployment options:  \n",
    "- **On-Premise** – Installed and managed in your infrastructure (datacenter or private cloud).  \n",
    "- **SaaS** – Fully hosted and managed by SmartBear.\n",
    "\n",
    "---\n",
    "\n",
    "## Feature Comparison\n",
    "\n",
    "| Feature | Pactflow On-Premise | Pactflow SaaS |\n",
    "|---------|---------------------|---------------|\n",
    "| **Hosting Location** | Your infrastructure (on-premises server, private cloud, Kubernetes, etc.) | Hosted in SmartBear’s managed cloud environment |\n",
    "| **Cost Model** | License fee + your infrastructure/ops costs | Subscription (includes hosting and management) |\n",
    "| **Setup** | Installed, configured, and maintained by your team | No setup—ready to use after account provisioning |\n",
    "| **Upgrades** | Manual, scheduled by your team | Automatic, managed by SmartBear |\n",
    "| **Maintenance** | Your responsibility (monitoring, scaling, backups) | Handled entirely by SmartBear |\n",
    "| **Security Control** | Full control over data storage, network, and security policies | Data stored in SmartBear-managed environment with enterprise security controls |\n",
    "| **Compliance** | Can be configured to meet internal or industry-specific compliance needs (HIPAA, ISO, etc.) | SOC 2 compliant; meets SmartBear’s managed compliance standards |\n",
    "| **Disaster Recovery** | Managed internally by your ops team | Included as part of the SaaS offering |\n",
    "| **Performance & Scaling** | Dependent on your infrastructure and tuning | Auto-scaled by SmartBear for high availability |\n",
    "| **Access Control** | Supports SSO, role-based access control, local accounts | Supports SSO, role-based access control |\n",
    "| **Integrations** | Same integration capabilities as SaaS; requires internal connectivity setup | Preconfigured cloud CI/CD integrations with GitHub, GitLab, Azure DevOps, Bitbucket, Jenkins, etc. |\n",
    "| **Network Isolation** | Can be deployed entirely offline for air-gapped environments | Internet-accessible (can use VPN or IP allowlist for extra control) |\n",
    "| **SLAs & Support** | Enterprise support with custom escalation paths | Enterprise support + guaranteed uptime SLAs |\n",
    "| **Release Cadence** | You control update timing | Continuous updates deployed by SmartBear |\n",
    "| **AI Capabilities** | Not available | Available (AI-powered contract insights and automation features) |\n",
    "\n",
    "---\n",
    "\n",
    "## When to Choose Which\n",
    "\n",
    "### Choose **Pactflow On-Premise** if:\n",
    "- You need **full control** over infrastructure, data residency, and network isolation.\n",
    "- You operate in **highly regulated** or **air-gapped** environments.\n",
    "- You have strict **internal compliance** and audit requirements.\n",
    "- You have a DevOps/SRE team able to manage installation, monitoring, and upgrades.\n",
    "\n",
    "### Choose **Pactflow SaaS** if:\n",
    "- You want a **turnkey**, zero-maintenance solution.\n",
    "- You prefer automatic upgrades with **no downtime**.\n",
    "- You want **scalability** and **high availability** without infrastructure overhead.\n",
    "- You need rapid onboarding for distributed or cross-team usage.\n",
    "- You want **AI-driven contract testing insights and automation**.\n",
    "\n",
    "---\n",
    "\n",
    "## Summary\n",
    "Both **On-Premise** and **SaaS** Pactflow deployments provide the same **core features** and enterprise-grade capabilities.  \n",
    "The main differences are in **operational responsibility**, **data residency**, and **deployment flexibility**.  \n",
    "Choose **On-Premise** for control and isolation; choose **SaaS** for convenience, minimal management, and **access to AI features**.\n",
    "\n"
   ]
  }
 ],
 "metadata": {
  "kernelspec": {
   "display_name": "Python 3 (ipykernel)",
   "language": "python",
   "name": "python3"
  },
  "language_info": {
   "codemirror_mode": {
    "name": "ipython",
    "version": 3
   },
   "file_extension": ".py",
   "mimetype": "text/x-python",
   "name": "python",
   "nbconvert_exporter": "python",
   "pygments_lexer": "ipython3",
   "version": "3.12.6"
  }
 },
 "nbformat": 4,
 "nbformat_minor": 5
}
